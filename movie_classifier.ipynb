{
 "cells": [
  {
   "cell_type": "code",
   "id": "initial_id",
   "metadata": {
    "collapsed": true,
    "ExecuteTime": {
     "end_time": "2024-08-11T10:33:45.014147Z",
     "start_time": "2024-08-11T10:33:27.949888Z"
    }
   },
   "source": [
    "import numpy as np\n",
    "from tensorflow.keras.datasets import imdb\n",
    "\n",
    "(train_data, train_labels), (test_data, test_labels) = imdb.load_data(num_words=10000)"
   ],
   "outputs": [
    {
     "name": "stdout",
     "output_type": "stream",
     "text": [
      "Downloading data from https://storage.googleapis.com/tensorflow/tf-keras-datasets/imdb.npz\n",
      "17464789/17464789 [==============================] - 1s 0us/step\n"
     ]
    }
   ],
   "execution_count": 1
  },
  {
   "metadata": {
    "ExecuteTime": {
     "end_time": "2024-08-11T10:34:00.680608Z",
     "start_time": "2024-08-11T10:34:00.675708Z"
    }
   },
   "cell_type": "code",
   "source": "train_data[0]  # show input's word dic",
   "id": "5c8b4113fb75da86",
   "outputs": [
    {
     "data": {
      "text/plain": [
       "[1,\n",
       " 14,\n",
       " 22,\n",
       " 16,\n",
       " 43,\n",
       " 530,\n",
       " 973,\n",
       " 1622,\n",
       " 1385,\n",
       " 65,\n",
       " 458,\n",
       " 4468,\n",
       " 66,\n",
       " 3941,\n",
       " 4,\n",
       " 173,\n",
       " 36,\n",
       " 256,\n",
       " 5,\n",
       " 25,\n",
       " 100,\n",
       " 43,\n",
       " 838,\n",
       " 112,\n",
       " 50,\n",
       " 670,\n",
       " 2,\n",
       " 9,\n",
       " 35,\n",
       " 480,\n",
       " 284,\n",
       " 5,\n",
       " 150,\n",
       " 4,\n",
       " 172,\n",
       " 112,\n",
       " 167,\n",
       " 2,\n",
       " 336,\n",
       " 385,\n",
       " 39,\n",
       " 4,\n",
       " 172,\n",
       " 4536,\n",
       " 1111,\n",
       " 17,\n",
       " 546,\n",
       " 38,\n",
       " 13,\n",
       " 447,\n",
       " 4,\n",
       " 192,\n",
       " 50,\n",
       " 16,\n",
       " 6,\n",
       " 147,\n",
       " 2025,\n",
       " 19,\n",
       " 14,\n",
       " 22,\n",
       " 4,\n",
       " 1920,\n",
       " 4613,\n",
       " 469,\n",
       " 4,\n",
       " 22,\n",
       " 71,\n",
       " 87,\n",
       " 12,\n",
       " 16,\n",
       " 43,\n",
       " 530,\n",
       " 38,\n",
       " 76,\n",
       " 15,\n",
       " 13,\n",
       " 1247,\n",
       " 4,\n",
       " 22,\n",
       " 17,\n",
       " 515,\n",
       " 17,\n",
       " 12,\n",
       " 16,\n",
       " 626,\n",
       " 18,\n",
       " 2,\n",
       " 5,\n",
       " 62,\n",
       " 386,\n",
       " 12,\n",
       " 8,\n",
       " 316,\n",
       " 8,\n",
       " 106,\n",
       " 5,\n",
       " 4,\n",
       " 2223,\n",
       " 5244,\n",
       " 16,\n",
       " 480,\n",
       " 66,\n",
       " 3785,\n",
       " 33,\n",
       " 4,\n",
       " 130,\n",
       " 12,\n",
       " 16,\n",
       " 38,\n",
       " 619,\n",
       " 5,\n",
       " 25,\n",
       " 124,\n",
       " 51,\n",
       " 36,\n",
       " 135,\n",
       " 48,\n",
       " 25,\n",
       " 1415,\n",
       " 33,\n",
       " 6,\n",
       " 22,\n",
       " 12,\n",
       " 215,\n",
       " 28,\n",
       " 77,\n",
       " 52,\n",
       " 5,\n",
       " 14,\n",
       " 407,\n",
       " 16,\n",
       " 82,\n",
       " 2,\n",
       " 8,\n",
       " 4,\n",
       " 107,\n",
       " 117,\n",
       " 5952,\n",
       " 15,\n",
       " 256,\n",
       " 4,\n",
       " 2,\n",
       " 7,\n",
       " 3766,\n",
       " 5,\n",
       " 723,\n",
       " 36,\n",
       " 71,\n",
       " 43,\n",
       " 530,\n",
       " 476,\n",
       " 26,\n",
       " 400,\n",
       " 317,\n",
       " 46,\n",
       " 7,\n",
       " 4,\n",
       " 2,\n",
       " 1029,\n",
       " 13,\n",
       " 104,\n",
       " 88,\n",
       " 4,\n",
       " 381,\n",
       " 15,\n",
       " 297,\n",
       " 98,\n",
       " 32,\n",
       " 2071,\n",
       " 56,\n",
       " 26,\n",
       " 141,\n",
       " 6,\n",
       " 194,\n",
       " 7486,\n",
       " 18,\n",
       " 4,\n",
       " 226,\n",
       " 22,\n",
       " 21,\n",
       " 134,\n",
       " 476,\n",
       " 26,\n",
       " 480,\n",
       " 5,\n",
       " 144,\n",
       " 30,\n",
       " 5535,\n",
       " 18,\n",
       " 51,\n",
       " 36,\n",
       " 28,\n",
       " 224,\n",
       " 92,\n",
       " 25,\n",
       " 104,\n",
       " 4,\n",
       " 226,\n",
       " 65,\n",
       " 16,\n",
       " 38,\n",
       " 1334,\n",
       " 88,\n",
       " 12,\n",
       " 16,\n",
       " 283,\n",
       " 5,\n",
       " 16,\n",
       " 4472,\n",
       " 113,\n",
       " 103,\n",
       " 32,\n",
       " 15,\n",
       " 16,\n",
       " 5345,\n",
       " 19,\n",
       " 178,\n",
       " 32]"
      ]
     },
     "execution_count": 2,
     "metadata": {},
     "output_type": "execute_result"
    }
   ],
   "execution_count": 2
  },
  {
   "metadata": {
    "ExecuteTime": {
     "end_time": "2024-08-11T10:34:05.835278Z",
     "start_time": "2024-08-11T10:34:05.832218Z"
    }
   },
   "cell_type": "code",
   "source": "train_labels[0]",
   "id": "9127f4bc09d21a8",
   "outputs": [
    {
     "data": {
      "text/plain": [
       "1"
      ]
     },
     "execution_count": 3,
     "metadata": {},
     "output_type": "execute_result"
    }
   ],
   "execution_count": 3
  },
  {
   "metadata": {
    "ExecuteTime": {
     "end_time": "2024-08-11T10:36:15.929456Z",
     "start_time": "2024-08-11T10:36:15.879157Z"
    }
   },
   "cell_type": "code",
   "source": "max([max(sequence) for sequence in train_data])",
   "id": "c472471c203d18c2",
   "outputs": [
    {
     "data": {
      "text/plain": [
       "9999"
      ]
     },
     "execution_count": 6,
     "metadata": {},
     "output_type": "execute_result"
    }
   ],
   "execution_count": 6
  },
  {
   "metadata": {
    "ExecuteTime": {
     "end_time": "2024-08-11T10:37:01.099094Z",
     "start_time": "2024-08-11T10:37:00.462334Z"
    }
   },
   "cell_type": "code",
   "source": "word_index = imdb.get_word_index()",
   "id": "bd13aaaf01946a04",
   "outputs": [
    {
     "name": "stdout",
     "output_type": "stream",
     "text": [
      "Downloading data from https://storage.googleapis.com/tensorflow/tf-keras-datasets/imdb_word_index.json\n",
      "1641221/1641221 [==============================] - 0s 0us/step\n"
     ]
    }
   ],
   "execution_count": 7
  },
  {
   "metadata": {
    "ExecuteTime": {
     "end_time": "2024-08-11T10:39:33.183553Z",
     "start_time": "2024-08-11T10:39:33.162021Z"
    }
   },
   "cell_type": "code",
   "source": [
    "reverse_word_index = dict(\n",
    "    [(value, key) for (key, value) in word_index.items()]\n",
    ")\n",
    "decoded_review = ' '.join(\n",
    "    [reverse_word_index.get(i - 3, '?????') for i in train_data[0]]\n",
    ")"
   ],
   "id": "6b87ef81d56f10f6",
   "outputs": [],
   "execution_count": 12
  },
  {
   "metadata": {
    "ExecuteTime": {
     "end_time": "2024-08-11T10:39:33.490518Z",
     "start_time": "2024-08-11T10:39:33.486455Z"
    }
   },
   "cell_type": "code",
   "source": "decoded_review",
   "id": "d7f6fad7fafdadad",
   "outputs": [
    {
     "data": {
      "text/plain": [
       "\"????? this film was just brilliant casting location scenery story direction everyone's really suited the part they played and you could just imagine being there robert ????? is an amazing actor and now the same being director ????? father came from the same scottish island as myself so i loved the fact there was a real connection with this film the witty remarks throughout the film were great it was just brilliant so much that i bought the film as soon as it was released for ????? and would recommend it to everyone to watch and the fly fishing was amazing really cried at the end it was so sad and you know what they say if you cry at a film it must have been good and this definitely was also ????? to the two little boy's that played the ????? of norman and paul they were just brilliant children are often left out of the ????? list i think because the stars that play them all grown up are such a big profile for the whole film but these children are amazing and should be praised for what they have done don't you think the whole story was so lovely because it was true and was someone's life after all that was shared with us all\""
      ]
     },
     "execution_count": 13,
     "metadata": {},
     "output_type": "execute_result"
    }
   ],
   "execution_count": 13
  },
  {
   "metadata": {
    "ExecuteTime": {
     "end_time": "2024-08-11T10:58:52.444453Z",
     "start_time": "2024-08-11T10:58:41.681972Z"
    }
   },
   "cell_type": "code",
   "source": [
    "def vectorize_sequences(sequences, dimension=10000):\n",
    "    results = np.zeros((len(sequences), dimension))\n",
    "    for i, sequence in enumerate(sequences):\n",
    "        for j in enumerate(sequence):\n",
    "            results[i, j] = 1\n",
    "    return results\n",
    "\n",
    "\n",
    "x_train = vectorize_sequences(train_data)\n",
    "x_test = vectorize_sequences(test_data)\n",
    "y_train = np.asarray(train_labels).astype(\"float32\")\n",
    "y_test = np.asarray(test_labels).astype(\"float32\")"
   ],
   "id": "8c80ee652bc86d1b",
   "outputs": [],
   "execution_count": 26
  },
  {
   "metadata": {
    "ExecuteTime": {
     "end_time": "2024-08-11T10:58:52.450329Z",
     "start_time": "2024-08-11T10:58:52.445268Z"
    }
   },
   "cell_type": "code",
   "source": [
    "from tensorflow import keras\n",
    "from tensorflow.keras import layers\n",
    "\n",
    "model = keras.Sequential([\n",
    "    layers.Dense(16, activation=\"relu\"),\n",
    "    layers.Dense(16, activation=\"relu\"),\n",
    "    layers.Dense(1, activation=\"sigmoid\")\n",
    "])"
   ],
   "id": "3c7f590e60b6adbf",
   "outputs": [],
   "execution_count": 27
  },
  {
   "metadata": {
    "ExecuteTime": {
     "end_time": "2024-08-11T10:58:52.455191Z",
     "start_time": "2024-08-11T10:58:52.451038Z"
    }
   },
   "cell_type": "code",
   "source": [
    "model.compile(\n",
    "    optimizer=\"rmsprop\",\n",
    "    loss=\"binary_crossentropy\",\n",
    "    metrics=[\"accuracy\"]\n",
    ")"
   ],
   "id": "6d2ed33b25cc44fa",
   "outputs": [],
   "execution_count": 28
  },
  {
   "metadata": {
    "ExecuteTime": {
     "end_time": "2024-08-11T10:58:52.458362Z",
     "start_time": "2024-08-11T10:58:52.456562Z"
    }
   },
   "cell_type": "code",
   "source": [
    "x_val = x_train[:10000]\n",
    "partial_x_train = x_train[10000:]\n",
    "y_val = y_train[:10000]\n",
    "partial_y_train = y_train[10000:]"
   ],
   "id": "eb6fb491653b67be",
   "outputs": [],
   "execution_count": 29
  },
  {
   "metadata": {
    "ExecuteTime": {
     "end_time": "2024-08-11T10:59:56.186345Z",
     "start_time": "2024-08-11T10:59:51.936268Z"
    }
   },
   "cell_type": "code",
   "source": [
    "history = model.fit(\n",
    "    partial_x_train,\n",
    "    partial_y_train,\n",
    "    epochs=20,\n",
    "    batch_size=512,\n",
    "    validation_data=(x_val, y_val)\n",
    ")"
   ],
   "id": "97c4a31ddc79a87",
   "outputs": [
    {
     "name": "stdout",
     "output_type": "stream",
     "text": [
      "Epoch 1/20\n",
      "30/30 [==============================] - 1s 16ms/step - loss: 0.6613 - accuracy: 0.5923 - val_loss: 0.5833 - val_accuracy: 0.7878\n",
      "Epoch 2/20\n",
      "30/30 [==============================] - 0s 5ms/step - loss: 0.5194 - accuracy: 0.7962 - val_loss: 0.4761 - val_accuracy: 0.8124\n",
      "Epoch 3/20\n",
      "30/30 [==============================] - 0s 5ms/step - loss: 0.4117 - accuracy: 0.8650 - val_loss: 0.4874 - val_accuracy: 0.7641\n",
      "Epoch 4/20\n",
      "30/30 [==============================] - 0s 5ms/step - loss: 0.3440 - accuracy: 0.8804 - val_loss: 0.4545 - val_accuracy: 0.7832\n",
      "Epoch 5/20\n",
      "30/30 [==============================] - 0s 5ms/step - loss: 0.2841 - accuracy: 0.9036 - val_loss: 0.3226 - val_accuracy: 0.8740\n",
      "Epoch 6/20\n",
      "30/30 [==============================] - 0s 5ms/step - loss: 0.2531 - accuracy: 0.9111 - val_loss: 0.3778 - val_accuracy: 0.8436\n",
      "Epoch 7/20\n",
      "30/30 [==============================] - 0s 5ms/step - loss: 0.2271 - accuracy: 0.9192 - val_loss: 0.3044 - val_accuracy: 0.8773\n",
      "Epoch 8/20\n",
      "30/30 [==============================] - 0s 6ms/step - loss: 0.1986 - accuracy: 0.9319 - val_loss: 0.2984 - val_accuracy: 0.8755\n",
      "Epoch 9/20\n",
      "30/30 [==============================] - 0s 5ms/step - loss: 0.1768 - accuracy: 0.9383 - val_loss: 0.3026 - val_accuracy: 0.8743\n",
      "Epoch 10/20\n",
      "30/30 [==============================] - 0s 5ms/step - loss: 0.1531 - accuracy: 0.9480 - val_loss: 0.3019 - val_accuracy: 0.8731\n",
      "Epoch 11/20\n",
      "30/30 [==============================] - 0s 6ms/step - loss: 0.1309 - accuracy: 0.9589 - val_loss: 0.3837 - val_accuracy: 0.8457\n",
      "Epoch 12/20\n",
      "30/30 [==============================] - 0s 6ms/step - loss: 0.1325 - accuracy: 0.9548 - val_loss: 0.3208 - val_accuracy: 0.8703\n",
      "Epoch 13/20\n",
      "30/30 [==============================] - 0s 6ms/step - loss: 0.1206 - accuracy: 0.9577 - val_loss: 0.3274 - val_accuracy: 0.8707\n",
      "Epoch 14/20\n",
      "30/30 [==============================] - 0s 6ms/step - loss: 0.0975 - accuracy: 0.9701 - val_loss: 0.3458 - val_accuracy: 0.8665\n",
      "Epoch 15/20\n",
      "30/30 [==============================] - 0s 6ms/step - loss: 0.0931 - accuracy: 0.9695 - val_loss: 0.3589 - val_accuracy: 0.8641\n",
      "Epoch 16/20\n",
      "30/30 [==============================] - 0s 5ms/step - loss: 0.0928 - accuracy: 0.9677 - val_loss: 0.4054 - val_accuracy: 0.8513\n",
      "Epoch 17/20\n",
      "30/30 [==============================] - 0s 5ms/step - loss: 0.0732 - accuracy: 0.9771 - val_loss: 0.3729 - val_accuracy: 0.8644\n",
      "Epoch 18/20\n",
      "30/30 [==============================] - 0s 6ms/step - loss: 0.0657 - accuracy: 0.9814 - val_loss: 0.3853 - val_accuracy: 0.8622\n",
      "Epoch 19/20\n",
      "30/30 [==============================] - 0s 6ms/step - loss: 0.0579 - accuracy: 0.9832 - val_loss: 0.3986 - val_accuracy: 0.8625\n",
      "Epoch 20/20\n",
      "30/30 [==============================] - 0s 6ms/step - loss: 0.0539 - accuracy: 0.9838 - val_loss: 0.4041 - val_accuracy: 0.8644\n"
     ]
    }
   ],
   "execution_count": 30
  },
  {
   "metadata": {
    "ExecuteTime": {
     "end_time": "2024-08-11T11:00:09.429865Z",
     "start_time": "2024-08-11T11:00:09.427003Z"
    }
   },
   "cell_type": "code",
   "source": "history.history",
   "id": "b048707af5b1632b",
   "outputs": [
    {
     "data": {
      "text/plain": [
       "{'loss': [0.6613011956214905,\n",
       "  0.519356369972229,\n",
       "  0.4116782546043396,\n",
       "  0.34397271275520325,\n",
       "  0.2840529680252075,\n",
       "  0.2531144618988037,\n",
       "  0.2271217405796051,\n",
       "  0.1986498385667801,\n",
       "  0.1767699420452118,\n",
       "  0.15309403836727142,\n",
       "  0.13089187443256378,\n",
       "  0.1325283646583557,\n",
       "  0.12061064690351486,\n",
       "  0.09753035008907318,\n",
       "  0.09307689964771271,\n",
       "  0.09275877475738525,\n",
       "  0.07321742177009583,\n",
       "  0.06570357084274292,\n",
       "  0.05788169056177139,\n",
       "  0.05385870859026909],\n",
       " 'accuracy': [0.5923333168029785,\n",
       "  0.7961999773979187,\n",
       "  0.8650000095367432,\n",
       "  0.8804000020027161,\n",
       "  0.9035999774932861,\n",
       "  0.911133348941803,\n",
       "  0.9192000031471252,\n",
       "  0.9318666458129883,\n",
       "  0.9383333325386047,\n",
       "  0.9480000138282776,\n",
       "  0.9589333534240723,\n",
       "  0.954800009727478,\n",
       "  0.9576666951179504,\n",
       "  0.9700666666030884,\n",
       "  0.9695333242416382,\n",
       "  0.9677333235740662,\n",
       "  0.9771333336830139,\n",
       "  0.9814000129699707,\n",
       "  0.9832000136375427,\n",
       "  0.9837999939918518],\n",
       " 'val_loss': [0.5832716226577759,\n",
       "  0.4761490225791931,\n",
       "  0.48741480708122253,\n",
       "  0.4544703960418701,\n",
       "  0.322605699300766,\n",
       "  0.3777576982975006,\n",
       "  0.3043797016143799,\n",
       "  0.2983638644218445,\n",
       "  0.3026265501976013,\n",
       "  0.30186933279037476,\n",
       "  0.38373836874961853,\n",
       "  0.32076573371887207,\n",
       "  0.32738834619522095,\n",
       "  0.3457511365413666,\n",
       "  0.35893332958221436,\n",
       "  0.40540096163749695,\n",
       "  0.37294960021972656,\n",
       "  0.3852873146533966,\n",
       "  0.3985591232776642,\n",
       "  0.40410473942756653],\n",
       " 'val_accuracy': [0.7878000140190125,\n",
       "  0.8123999834060669,\n",
       "  0.7641000151634216,\n",
       "  0.7832000255584717,\n",
       "  0.8740000128746033,\n",
       "  0.8435999751091003,\n",
       "  0.8773000240325928,\n",
       "  0.8755000233650208,\n",
       "  0.8743000030517578,\n",
       "  0.8730999827384949,\n",
       "  0.8457000255584717,\n",
       "  0.8702999949455261,\n",
       "  0.8707000017166138,\n",
       "  0.8665000200271606,\n",
       "  0.8640999794006348,\n",
       "  0.8513000011444092,\n",
       "  0.8644000291824341,\n",
       "  0.8622000217437744,\n",
       "  0.862500011920929,\n",
       "  0.8644000291824341]}"
      ]
     },
     "execution_count": 31,
     "metadata": {},
     "output_type": "execute_result"
    }
   ],
   "execution_count": 31
  },
  {
   "metadata": {
    "ExecuteTime": {
     "end_time": "2024-08-11T11:01:37.621060Z",
     "start_time": "2024-08-11T11:01:37.210446Z"
    }
   },
   "cell_type": "code",
   "source": [
    "import matplotlib.pyplot as plt\n",
    "\n",
    "history_dict = history.history\n",
    "loss_values = history_dict['loss']\n",
    "val_loss_values = history_dict['val_loss']\n",
    "epochs = range(1, len(loss_values) + 1)\n",
    "plt.plot(epochs, loss_values, 'bo', label='Training loss')\n",
    "plt.plot(epochs, val_loss_values, 'b', label='Validation loss')\n",
    "plt.title('Training and validation loss')\n",
    "plt.xlabel(\"Epochs\")\n",
    "plt.ylabel(\"Loss\")\n",
    "plt.legend()\n",
    "plt.show()"
   ],
   "id": "f4c7cbea34b1a7b1",
   "outputs": [
    {
     "data": {
      "text/plain": [
       "<Figure size 640x480 with 1 Axes>"
      ],
      "image/png": "[encoded data removed]"
     },
     "metadata": {},
     "output_type": "display_data"
    }
   ],
   "execution_count": 32
  },
  {
   "metadata": {
    "ExecuteTime": {
     "end_time": "2024-08-11T11:03:12.413726Z",
     "start_time": "2024-08-11T11:03:12.341576Z"
    }
   },
   "cell_type": "code",
   "source": [
    "plt.clf()\n",
    "acc = history_dict[\"accuracy\"]\n",
    "val_acc = history_dict[\"val_accuracy\"]\n",
    "plt.plot(epochs, acc, 'bo', label='Training accuracy')\n",
    "plt.plot(epochs, val_acc, 'b', label='Validation accuracy')\n",
    "plt.title('Training and validation accuracy')\n",
    "plt.xlabel(\"Epochs\")\n",
    "plt.ylabel(\"Accuracy\")\n",
    "plt.legend()\n",
    "plt.show()"
   ],
   "id": "8761d746d13dc64e",
   "outputs": [
    {
     "data": {
      "text/plain": [
       "<Figure size 640x480 with 1 Axes>"
      ],
      "image/png": "[encoded data removed]"
     },
     "metadata": {},
     "output_type": "display_data"
    }
   ],
   "execution_count": 33
  },
  {
   "metadata": {
    "ExecuteTime": {
     "end_time": "2024-08-11T11:05:23.655533Z",
     "start_time": "2024-08-11T11:05:23.644129Z"
    }
   },
   "cell_type": "code",
   "source": [
    "model = keras.Sequential([\n",
    "    layers.Dense(16, activation=\"relu\"),\n",
    "    layers.Dense(16, activation=\"relu\"),\n",
    "    layers.Dense(1, activation=\"sigmoid\")\n",
    "])\n",
    "model.compile(\n",
    "    optimizer=\"rmsprop\",\n",
    "    loss=\"binary_crossentropy\",\n",
    "    metrics=[\"accuracy\"]\n",
    ")"
   ],
   "id": "159f61ca956d56e7",
   "outputs": [],
   "execution_count": 34
  },
  {
   "metadata": {
    "ExecuteTime": {
     "end_time": "2024-08-11T11:05:53.638345Z",
     "start_time": "2024-08-11T11:05:51.111075Z"
    }
   },
   "cell_type": "code",
   "source": [
    "model.fit(x_train, y_train, epochs=4, batch_size=512)\n",
    "result = model.evaluate(x_test, y_test)"
   ],
   "id": "64a1990d049c2a8c",
   "outputs": [
    {
     "name": "stdout",
     "output_type": "stream",
     "text": [
      "Epoch 1/4\n",
      "49/49 [==============================] - 0s 6ms/step - loss: 0.6346 - accuracy: 0.6894\n",
      "Epoch 2/4\n",
      "49/49 [==============================] - 0s 5ms/step - loss: 0.4938 - accuracy: 0.8382\n",
      "Epoch 3/4\n",
      "49/49 [==============================] - 0s 5ms/step - loss: 0.3803 - accuracy: 0.8769\n",
      "Epoch 4/4\n",
      "49/49 [==============================] - 0s 6ms/step - loss: 0.3120 - accuracy: 0.8941\n",
      "782/782 [==============================] - 0s 441us/step - loss: 0.3478 - accuracy: 0.8669\n"
     ]
    }
   ],
   "execution_count": 35
  },
  {
   "metadata": {
    "ExecuteTime": {
     "end_time": "2024-08-11T11:06:02.401716Z",
     "start_time": "2024-08-11T11:06:02.399303Z"
    }
   },
   "cell_type": "code",
   "source": "result",
   "id": "cceec767ac1716fc",
   "outputs": [
    {
     "data": {
      "text/plain": [
       "[0.34776929020881653, 0.8668799996376038]"
      ]
     },
     "execution_count": 37,
     "metadata": {},
     "output_type": "execute_result"
    }
   ],
   "execution_count": 37
  },
  {
   "metadata": {
    "ExecuteTime": {
     "end_time": "2024-08-11T11:06:18.618834Z",
     "start_time": "2024-08-11T11:06:18.561924Z"
    }
   },
   "cell_type": "code",
   "source": "model.predict(x_test[:10])",
   "id": "84e659ef957db6b5",
   "outputs": [
    {
     "name": "stdout",
     "output_type": "stream",
     "text": [
      "1/1 [==============================] - 0s 35ms/step\n"
     ]
    },
    {
     "data": {
      "text/plain": [
       "array([[0.33344847],\n",
       "       [0.99174243],\n",
       "       [0.8381828 ],\n",
       "       [0.27402213],\n",
       "       [0.64085364],\n",
       "       [0.59447783],\n",
       "       [0.932552  ],\n",
       "       [0.13553077],\n",
       "       [0.8946934 ],\n",
       "       [0.8830415 ]], dtype=float32)"
      ]
     },
     "execution_count": 38,
     "metadata": {},
     "output_type": "execute_result"
    }
   ],
   "execution_count": 38
  },
  {
   "metadata": {},
   "cell_type": "code",
   "outputs": [],
   "execution_count": null,
   "source": "",
   "id": "4b439e67c99d2d1a"
  }
 ],
 "metadata": {
  "kernelspec": {
   "display_name": "Python 3",
   "language": "python",
   "name": "python3"
  },
  "language_info": {
   "codemirror_mode": {
    "name": "ipython",
    "version": 2
   },
   "file_extension": ".py",
   "mimetype": "text/x-python",
   "name": "python",
   "nbconvert_exporter": "python",
   "pygments_lexer": "ipython2",
   "version": "2.7.6"
  }
 },
 "nbformat": 4,
 "nbformat_minor": 5
}
